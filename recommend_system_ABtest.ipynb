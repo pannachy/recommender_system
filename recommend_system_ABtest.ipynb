{
 "cells": [
  {
   "attachments": {},
   "cell_type": "markdown",
   "id": "95363897",
   "metadata": {},
   "source": [
    "# Рекомендательный сервис постов для пользователей социальной сети\n",
    "# A/B тестирование результативности модели"
   ]
  },
  {
   "cell_type": "code",
   "execution_count": 2,
   "id": "3b5adb09",
   "metadata": {},
   "outputs": [],
   "source": [
    "import warnings\n",
    "warnings.filterwarnings('ignore')\n",
    "\n",
    "import pandas as pd\n",
    "import numpy as np\n",
    "import seaborn as sns\n",
    "import scipy\n",
    "\n",
    "import matplotlib.pyplot as plt\n",
    "import datetime as dt"
   ]
  },
  {
   "cell_type": "code",
   "execution_count": 3,
   "id": "8d9106a5",
   "metadata": {},
   "outputs": [],
   "source": [
    "params = {\n",
    "          'xtick.labelsize': 12,  # Размер шрифта подписей тикетов оси X\n",
    "          'axes.titlesize': 15,   # Размер шрифта главной подписи          \n",
    "          'axes.labelsize': 14,    # Размер шрифта подписей осей\n",
    "          'axes.grid': True,  # сетка по умолчанию\n",
    "          'axes.edgecolor': 'gray' # цвет осей серый\n",
    "          }\n",
    "\n",
    "plt.rcParams.update(params)"
   ]
  },
  {
   "cell_type": "markdown",
   "id": "046c8441",
   "metadata": {},
   "source": [
    "### Задание 9\n",
    "Проверка разбиения групп. <b>\n",
    "    \n",
    "Проверьте, нет ли у нас пользователей, которые попали в обе группы. Если их совсем немного, удалите их из обеих выборок (если бы было много, то надо было разбираться, что пошло не так).<b>\n",
    "    \n",
    "Теперь, когда мы знаем про однозначное соответствие, сделайте табличку пользователь-группа. Проверьте, что группы получаются одинакового размера по пользователям. Для этого можно посчитать долю каждой группы, а ещё можно применить критерий для долей (биномиальный тест), чтобы проверить соответствие этой доли ожидаемым 0.5."
   ]
  },
  {
   "cell_type": "code",
   "execution_count": 4,
   "id": "736a786a",
   "metadata": {
    "scrolled": true
   },
   "outputs": [],
   "source": [
    "# загружаем датасеты с лайками и просмотрами пользователей\n",
    "\n",
    "views = pd.read_csv(\"data/views_ABtest.csv\", sep=',')\n",
    "likes = pd.read_csv(\"data/likes_ABtest.csv\", sep=',')"
   ]
  },
  {
   "cell_type": "code",
   "execution_count": 5,
   "id": "2066ee0a",
   "metadata": {},
   "outputs": [
    {
     "data": {
      "text/plain": [
       "(193295, 4)"
      ]
     },
     "execution_count": 5,
     "metadata": {},
     "output_type": "execute_result"
    }
   ],
   "source": [
    "views.shape"
   ]
  },
  {
   "cell_type": "code",
   "execution_count": 19,
   "id": "306492bc",
   "metadata": {},
   "outputs": [
    {
     "data": {
      "text/html": [
       "<div>\n",
       "<style scoped>\n",
       "    .dataframe tbody tr th:only-of-type {\n",
       "        vertical-align: middle;\n",
       "    }\n",
       "\n",
       "    .dataframe tbody tr th {\n",
       "        vertical-align: top;\n",
       "    }\n",
       "\n",
       "    .dataframe thead th {\n",
       "        text-align: right;\n",
       "    }\n",
       "</style>\n",
       "<table border=\"1\" class=\"dataframe\">\n",
       "  <thead>\n",
       "    <tr style=\"text-align: right;\">\n",
       "      <th></th>\n",
       "      <th>user_id</th>\n",
       "      <th>exp_group</th>\n",
       "      <th>recommendations</th>\n",
       "      <th>timestamp</th>\n",
       "    </tr>\n",
       "  </thead>\n",
       "  <tbody>\n",
       "    <tr>\n",
       "      <th>0</th>\n",
       "      <td>128381</td>\n",
       "      <td>control</td>\n",
       "      <td>[3644 4529 4704 5294 4808]</td>\n",
       "      <td>1654030803</td>\n",
       "    </tr>\n",
       "    <tr>\n",
       "      <th>1</th>\n",
       "      <td>146885</td>\n",
       "      <td>test</td>\n",
       "      <td>[1399 1076  797 7015 5942]</td>\n",
       "      <td>1654030811</td>\n",
       "    </tr>\n",
       "    <tr>\n",
       "      <th>2</th>\n",
       "      <td>50948</td>\n",
       "      <td>test</td>\n",
       "      <td>[2315 3037 1861 6567 4093]</td>\n",
       "      <td>1654030825</td>\n",
       "    </tr>\n",
       "  </tbody>\n",
       "</table>\n",
       "</div>"
      ],
      "text/plain": [
       "   user_id exp_group             recommendations   timestamp\n",
       "0   128381   control  [3644 4529 4704 5294 4808]  1654030803\n",
       "1   146885      test  [1399 1076  797 7015 5942]  1654030811\n",
       "2    50948      test  [2315 3037 1861 6567 4093]  1654030825"
      ]
     },
     "execution_count": 19,
     "metadata": {},
     "output_type": "execute_result"
    }
   ],
   "source": [
    "# информация, какому пользователю что мы порекомендовали, в какую группу его отнесли и когда это произошло.\n",
    "\n",
    "views.head(3)"
   ]
  },
  {
   "cell_type": "code",
   "execution_count": 1,
   "id": "4f9452aa",
   "metadata": {},
   "outputs": [
    {
     "ename": "NameError",
     "evalue": "name 'likes' is not defined",
     "output_type": "error",
     "traceback": [
      "\u001b[1;31m---------------------------------------------------------------------------\u001b[0m",
      "\u001b[1;31mNameError\u001b[0m                                 Traceback (most recent call last)",
      "Cell \u001b[1;32mIn [1], line 1\u001b[0m\n\u001b[1;32m----> 1\u001b[0m likes\u001b[39m.\u001b[39mshape\n",
      "\u001b[1;31mNameError\u001b[0m: name 'likes' is not defined"
     ]
    }
   ],
   "source": [
    "likes.shape"
   ]
  },
  {
   "cell_type": "code",
   "execution_count": 20,
   "id": "c6766064",
   "metadata": {},
   "outputs": [
    {
     "data": {
      "text/html": [
       "<div>\n",
       "<style scoped>\n",
       "    .dataframe tbody tr th:only-of-type {\n",
       "        vertical-align: middle;\n",
       "    }\n",
       "\n",
       "    .dataframe tbody tr th {\n",
       "        vertical-align: top;\n",
       "    }\n",
       "\n",
       "    .dataframe thead th {\n",
       "        text-align: right;\n",
       "    }\n",
       "</style>\n",
       "<table border=\"1\" class=\"dataframe\">\n",
       "  <thead>\n",
       "    <tr style=\"text-align: right;\">\n",
       "      <th></th>\n",
       "      <th>user_id</th>\n",
       "      <th>post_id</th>\n",
       "      <th>timestamp</th>\n",
       "    </tr>\n",
       "  </thead>\n",
       "  <tbody>\n",
       "    <tr>\n",
       "      <th>0</th>\n",
       "      <td>128381</td>\n",
       "      <td>4704</td>\n",
       "      <td>1654030804</td>\n",
       "    </tr>\n",
       "    <tr>\n",
       "      <th>1</th>\n",
       "      <td>146885</td>\n",
       "      <td>1399</td>\n",
       "      <td>1654030816</td>\n",
       "    </tr>\n",
       "    <tr>\n",
       "      <th>2</th>\n",
       "      <td>50948</td>\n",
       "      <td>2315</td>\n",
       "      <td>1654030828</td>\n",
       "    </tr>\n",
       "  </tbody>\n",
       "</table>\n",
       "</div>"
      ],
      "text/plain": [
       "   user_id  post_id   timestamp\n",
       "0   128381     4704  1654030804\n",
       "1   146885     1399  1654030816\n",
       "2    50948     2315  1654030828"
      ]
     },
     "execution_count": 20,
     "metadata": {},
     "output_type": "execute_result"
    }
   ],
   "source": [
    "# информация, какой пользователь и какой пост лайкнул, в том числе момент времени, когда это произошло.\n",
    "\n",
    "likes.head(3)"
   ]
  },
  {
   "cell_type": "code",
   "execution_count": 12,
   "id": "f151b015",
   "metadata": {},
   "outputs": [],
   "source": [
    "# считаем количество рекомендаций и лайков на пользователя\n",
    "\n",
    "qty_recommendations = views.groupby('user_id')['user_id'].count().sort_values(ascending = False)\n",
    "qty_recommendations = qty_recommendations.to_list()\n",
    "\n",
    "qty_likes = likes.groupby('user_id')['user_id'].count().sort_values(ascending = False)\n",
    "qty_likes = qty_likes.to_list()"
   ]
  },
  {
   "cell_type": "code",
   "execution_count": 14,
   "id": "9b05502b",
   "metadata": {},
   "outputs": [
    {
     "data": {
      "image/png": "[encoded data removed]",
      "text/plain": [
       "<Figure size 800x600 with 1 Axes>"
      ]
     },
     "metadata": {},
     "output_type": "display_data"
    }
   ],
   "source": [
    "# посмотрим на графике, как распределяется количество рекомендаций и лайков на пользователя\n",
    "\n",
    "fig = plt.figure(figsize=(8, 6))\n",
    "\n",
    "plt.plot(qty_likes, label='likes')\n",
    "plt.plot(qty_recommendations, label='recomendations')\n",
    "\n",
    "\n",
    "plt.title('Распределение по количеству рекомендаций/лайков на пользователя')\n",
    "plt.xlabel('Количество лайков/рекомендаций на пользователя')\n",
    "plt.ylabel('Количество пользователей')\n",
    "plt.legend()\n",
    "\n",
    "plt.show()"
   ]
  },
  {
   "cell_type": "code",
   "execution_count": 234,
   "id": "ceb286bc",
   "metadata": {},
   "outputs": [
    {
     "data": {
      "text/plain": [
       "[25623, 55788, 142283, 148670]"
      ]
     },
     "execution_count": 234,
     "metadata": {},
     "output_type": "execute_result"
    }
   ],
   "source": [
    "# проверяем группы на повторяющиеся id в группах контроля и теста. проверка показала, что есть 4 повтора, их удаляем\n",
    "\n",
    "qty_groups = views.groupby('user_id')['exp_group'].nunique()\n",
    "to_drop = qty_groups[qty_groups != 1].index.to_list()\n",
    "\n",
    "# удаляем дублирующихся пользователей\n",
    "views_nodub = views.drop(views[views['user_id'].isin(to_drop)].index, axis=0)"
   ]
  },
  {
   "cell_type": "code",
   "execution_count": 17,
   "id": "854c1754",
   "metadata": {},
   "outputs": [
    {
     "ename": "NameError",
     "evalue": "name 'qty_group_test' is not defined",
     "output_type": "error",
     "traceback": [
      "\u001b[1;31m---------------------------------------------------------------------------\u001b[0m",
      "\u001b[1;31mNameError\u001b[0m                                 Traceback (most recent call last)",
      "Cell \u001b[1;32mIn [17], line 1\u001b[0m\n\u001b[1;32m----> 1\u001b[0m qty_group_test, qty_group_control\n",
      "\u001b[1;31mNameError\u001b[0m: name 'qty_group_test' is not defined"
     ]
    }
   ],
   "source": [
    "qty_group_test, qty_group_control"
   ]
  },
  {
   "cell_type": "code",
   "execution_count": 438,
   "id": "e465c6dd",
   "metadata": {},
   "outputs": [
    {
     "data": {
      "text/plain": [
       "0.23062291448605168"
      ]
     },
     "execution_count": 438,
     "metadata": {},
     "output_type": "execute_result"
    }
   ],
   "source": [
    "# гипотеза Н0: распределение соответствует вероятности распределения Бернулли 0.5,\n",
    "# биномиальный тест,\n",
    "# значечние p-value = 0.2306,\n",
    "# вывод: H0 не отвергаем\n",
    "\n",
    "qty_group_test = views_nodub[views_nodub['exp_group'] == 'test'].shape[0]\n",
    "qty_group_control = views_nodub[views_nodub['exp_group'] == 'control'].shape[0]\n",
    "\n",
    "binom_results = scipy.stats.binom_test(qty_group_test, views_nodub.shape[0], p=0.5)\n",
    "binom_results"
   ]
  },
  {
   "cell_type": "markdown",
   "id": "f79a6728",
   "metadata": {},
   "source": [
    "### Задание 10\n",
    "Теперь давайте попробуем оценить, а улучшаются ли наши метрики в тестовой группе.<b>\n",
    "\n",
    "Наши данные о показах и кликах хранятся в разных табличках и просто так их не получается сджойнить. Давайте оставим это на потом, а пока попробуем оценить более простыми метриками. Подумайте, какие метрики можно было бы посчитать без джойна показов и кликов.<b>\n",
    "\n",
    "Соберите табличку, в которой будут пользователи, попавшие в наш эксперимент (то есть те, для которых мы строили хотя бы одну рекомендацию). Посчитайте, кто из них сколько лайков сделал. Наверняка будут пользователи, которые не сделали ни один лайк.<b>\n",
    "\n",
    "Посчитайте долю пользователей, которая сделала хотя бы один лайк за время эксперимента без разбивки на группы."
   ]
  },
  {
   "cell_type": "code",
   "execution_count": 1125,
   "id": "f6e3145f",
   "metadata": {},
   "outputs": [
    {
     "data": {
      "text/html": [
       "<div>\n",
       "<style scoped>\n",
       "    .dataframe tbody tr th:only-of-type {\n",
       "        vertical-align: middle;\n",
       "    }\n",
       "\n",
       "    .dataframe tbody tr th {\n",
       "        vertical-align: top;\n",
       "    }\n",
       "\n",
       "    .dataframe thead th {\n",
       "        text-align: right;\n",
       "    }\n",
       "</style>\n",
       "<table border=\"1\" class=\"dataframe\">\n",
       "  <thead>\n",
       "    <tr style=\"text-align: right;\">\n",
       "      <th></th>\n",
       "      <th>user_id</th>\n",
       "      <th>exp_group</th>\n",
       "      <th>recommendations</th>\n",
       "      <th>timestamp</th>\n",
       "    </tr>\n",
       "  </thead>\n",
       "  <tbody>\n",
       "    <tr>\n",
       "      <th>0</th>\n",
       "      <td>128381</td>\n",
       "      <td>control</td>\n",
       "      <td>[3644 4529 4704 5294 4808]</td>\n",
       "      <td>1654030803</td>\n",
       "    </tr>\n",
       "    <tr>\n",
       "      <th>1</th>\n",
       "      <td>146885</td>\n",
       "      <td>test</td>\n",
       "      <td>[1399 1076  797 7015 5942]</td>\n",
       "      <td>1654030811</td>\n",
       "    </tr>\n",
       "    <tr>\n",
       "      <th>2</th>\n",
       "      <td>50948</td>\n",
       "      <td>test</td>\n",
       "      <td>[2315 3037 1861 6567 4093]</td>\n",
       "      <td>1654030825</td>\n",
       "    </tr>\n",
       "  </tbody>\n",
       "</table>\n",
       "</div>"
      ],
      "text/plain": [
       "   user_id exp_group             recommendations   timestamp\n",
       "0   128381   control  [3644 4529 4704 5294 4808]  1654030803\n",
       "1   146885      test  [1399 1076  797 7015 5942]  1654030811\n",
       "2    50948      test  [2315 3037 1861 6567 4093]  1654030825"
      ]
     },
     "execution_count": 1125,
     "metadata": {},
     "output_type": "execute_result"
    }
   ],
   "source": [
    "views_nodub.head(3)"
   ]
  },
  {
   "cell_type": "code",
   "execution_count": 254,
   "id": "9ca7ed7d",
   "metadata": {},
   "outputs": [
    {
     "data": {
      "text/html": [
       "<div>\n",
       "<style scoped>\n",
       "    .dataframe tbody tr th:only-of-type {\n",
       "        vertical-align: middle;\n",
       "    }\n",
       "\n",
       "    .dataframe tbody tr th {\n",
       "        vertical-align: top;\n",
       "    }\n",
       "\n",
       "    .dataframe thead th {\n",
       "        text-align: right;\n",
       "    }\n",
       "</style>\n",
       "<table border=\"1\" class=\"dataframe\">\n",
       "  <thead>\n",
       "    <tr style=\"text-align: right;\">\n",
       "      <th></th>\n",
       "      <th>user_id</th>\n",
       "      <th>post_id</th>\n",
       "      <th>timestamp</th>\n",
       "    </tr>\n",
       "  </thead>\n",
       "  <tbody>\n",
       "    <tr>\n",
       "      <th>0</th>\n",
       "      <td>128381</td>\n",
       "      <td>4704</td>\n",
       "      <td>1654030804</td>\n",
       "    </tr>\n",
       "    <tr>\n",
       "      <th>1</th>\n",
       "      <td>146885</td>\n",
       "      <td>1399</td>\n",
       "      <td>1654030816</td>\n",
       "    </tr>\n",
       "    <tr>\n",
       "      <th>2</th>\n",
       "      <td>50948</td>\n",
       "      <td>2315</td>\n",
       "      <td>1654030828</td>\n",
       "    </tr>\n",
       "  </tbody>\n",
       "</table>\n",
       "</div>"
      ],
      "text/plain": [
       "   user_id  post_id   timestamp\n",
       "0   128381     4704  1654030804\n",
       "1   146885     1399  1654030816\n",
       "2    50948     2315  1654030828"
      ]
     },
     "execution_count": 254,
     "metadata": {},
     "output_type": "execute_result"
    }
   ],
   "source": [
    "likes.head(3)"
   ]
  },
  {
   "cell_type": "code",
   "execution_count": 299,
   "id": "c5d30c09",
   "metadata": {},
   "outputs": [
    {
     "data": {
      "text/html": [
       "<div>\n",
       "<style scoped>\n",
       "    .dataframe tbody tr th:only-of-type {\n",
       "        vertical-align: middle;\n",
       "    }\n",
       "\n",
       "    .dataframe tbody tr th {\n",
       "        vertical-align: top;\n",
       "    }\n",
       "\n",
       "    .dataframe thead th {\n",
       "        text-align: right;\n",
       "    }\n",
       "</style>\n",
       "<table border=\"1\" class=\"dataframe\">\n",
       "  <thead>\n",
       "    <tr style=\"text-align: right;\">\n",
       "      <th></th>\n",
       "      <th>qty_likes</th>\n",
       "    </tr>\n",
       "    <tr>\n",
       "      <th>user_id</th>\n",
       "      <th></th>\n",
       "    </tr>\n",
       "  </thead>\n",
       "  <tbody>\n",
       "    <tr>\n",
       "      <th>80137</th>\n",
       "      <td>45</td>\n",
       "    </tr>\n",
       "    <tr>\n",
       "      <th>86170</th>\n",
       "      <td>44</td>\n",
       "    </tr>\n",
       "    <tr>\n",
       "      <th>62950</th>\n",
       "      <td>44</td>\n",
       "    </tr>\n",
       "  </tbody>\n",
       "</table>\n",
       "</div>"
      ],
      "text/plain": [
       "         qty_likes\n",
       "user_id           \n",
       "80137           45\n",
       "86170           44\n",
       "62950           44"
      ]
     },
     "execution_count": 299,
     "metadata": {},
     "output_type": "execute_result"
    }
   ],
   "source": [
    "# количество лайков на пользователя\n",
    "\n",
    "likes_per_user = pd.DataFrame(likes.groupby('user_id')['user_id'].count().sort_values(ascending=False))\\\n",
    "                                    .rename(columns={'user_id': 'qty_likes'})\n",
    "likes_per_user.head(3)"
   ]
  },
  {
   "cell_type": "code",
   "execution_count": 355,
   "id": "4782b821",
   "metadata": {},
   "outputs": [
    {
     "data": {
      "text/html": [
       "<div>\n",
       "<style scoped>\n",
       "    .dataframe tbody tr th:only-of-type {\n",
       "        vertical-align: middle;\n",
       "    }\n",
       "\n",
       "    .dataframe tbody tr th {\n",
       "        vertical-align: top;\n",
       "    }\n",
       "\n",
       "    .dataframe thead th {\n",
       "        text-align: right;\n",
       "    }\n",
       "</style>\n",
       "<table border=\"1\" class=\"dataframe\">\n",
       "  <thead>\n",
       "    <tr style=\"text-align: right;\">\n",
       "      <th></th>\n",
       "      <th>exp_group</th>\n",
       "    </tr>\n",
       "    <tr>\n",
       "      <th>user_id</th>\n",
       "      <th></th>\n",
       "    </tr>\n",
       "  </thead>\n",
       "  <tbody>\n",
       "    <tr>\n",
       "      <th>200</th>\n",
       "      <td>test</td>\n",
       "    </tr>\n",
       "    <tr>\n",
       "      <th>201</th>\n",
       "      <td>test</td>\n",
       "    </tr>\n",
       "    <tr>\n",
       "      <th>202</th>\n",
       "      <td>test</td>\n",
       "    </tr>\n",
       "  </tbody>\n",
       "</table>\n",
       "</div>"
      ],
      "text/plain": [
       "        exp_group\n",
       "user_id          \n",
       "200          test\n",
       "201          test\n",
       "202          test"
      ]
     },
     "execution_count": 355,
     "metadata": {},
     "output_type": "execute_result"
    }
   ],
   "source": [
    "# таблица с группами эксперимента\n",
    "\n",
    "user_exp_groups = pd.DataFrame(views_nodub.groupby('user_id')['exp_group'].first())\n",
    "user_exp_groups.head(3)"
   ]
  },
  {
   "cell_type": "code",
   "execution_count": 364,
   "id": "21e04c3a",
   "metadata": {},
   "outputs": [
    {
     "data": {
      "text/html": [
       "<div>\n",
       "<style scoped>\n",
       "    .dataframe tbody tr th:only-of-type {\n",
       "        vertical-align: middle;\n",
       "    }\n",
       "\n",
       "    .dataframe tbody tr th {\n",
       "        vertical-align: top;\n",
       "    }\n",
       "\n",
       "    .dataframe thead th {\n",
       "        text-align: right;\n",
       "    }\n",
       "</style>\n",
       "<table border=\"1\" class=\"dataframe\">\n",
       "  <thead>\n",
       "    <tr style=\"text-align: right;\">\n",
       "      <th></th>\n",
       "      <th>exp_group</th>\n",
       "      <th>qty_likes</th>\n",
       "    </tr>\n",
       "    <tr>\n",
       "      <th>user_id</th>\n",
       "      <th></th>\n",
       "      <th></th>\n",
       "    </tr>\n",
       "  </thead>\n",
       "  <tbody>\n",
       "    <tr>\n",
       "      <th>200</th>\n",
       "      <td>test</td>\n",
       "      <td>1.0</td>\n",
       "    </tr>\n",
       "    <tr>\n",
       "      <th>201</th>\n",
       "      <td>test</td>\n",
       "      <td>3.0</td>\n",
       "    </tr>\n",
       "    <tr>\n",
       "      <th>202</th>\n",
       "      <td>test</td>\n",
       "      <td>2.0</td>\n",
       "    </tr>\n",
       "  </tbody>\n",
       "</table>\n",
       "</div>"
      ],
      "text/plain": [
       "        exp_group  qty_likes\n",
       "user_id                     \n",
       "200          test        1.0\n",
       "201          test        3.0\n",
       "202          test        2.0"
      ]
     },
     "execution_count": 364,
     "metadata": {},
     "output_type": "execute_result"
    }
   ],
   "source": [
    "# мерджим с лайками\n",
    "\n",
    "likes_views_df = user_exp_groups.merge(likes_per_user, how='left', on='user_id')\n",
    "likes_views_df = pd.DataFrame(likes_views_df).fillna(0)\n",
    "likes_views_df.head(3)"
   ]
  },
  {
   "cell_type": "code",
   "execution_count": 365,
   "id": "5d8352cd",
   "metadata": {
    "scrolled": true
   },
   "outputs": [
    {
     "name": "stdout",
     "output_type": "stream",
     "text": [
      "Доля пользователей, поставивших лайк:  [89.48]\n"
     ]
    },
    {
     "data": {
      "text/html": [
       "<div>\n",
       "<style scoped>\n",
       "    .dataframe tbody tr th:only-of-type {\n",
       "        vertical-align: middle;\n",
       "    }\n",
       "\n",
       "    .dataframe tbody tr th {\n",
       "        vertical-align: top;\n",
       "    }\n",
       "\n",
       "    .dataframe thead th {\n",
       "        text-align: right;\n",
       "    }\n",
       "</style>\n",
       "<table border=\"1\" class=\"dataframe\">\n",
       "  <thead>\n",
       "    <tr style=\"text-align: right;\">\n",
       "      <th></th>\n",
       "      <th>qty_users</th>\n",
       "      <th>%_likes</th>\n",
       "    </tr>\n",
       "    <tr>\n",
       "      <th>qty_likes</th>\n",
       "      <th></th>\n",
       "      <th></th>\n",
       "    </tr>\n",
       "  </thead>\n",
       "  <tbody>\n",
       "    <tr>\n",
       "      <th>0.0</th>\n",
       "      <td>6842</td>\n",
       "      <td>10.52</td>\n",
       "    </tr>\n",
       "    <tr>\n",
       "      <th>1.0</th>\n",
       "      <td>11783</td>\n",
       "      <td>18.13</td>\n",
       "    </tr>\n",
       "    <tr>\n",
       "      <th>2.0</th>\n",
       "      <td>11654</td>\n",
       "      <td>17.93</td>\n",
       "    </tr>\n",
       "  </tbody>\n",
       "</table>\n",
       "</div>"
      ],
      "text/plain": [
       "           qty_users  %_likes\n",
       "qty_likes                    \n",
       "0.0             6842    10.52\n",
       "1.0            11783    18.13\n",
       "2.0            11654    17.93"
      ]
     },
     "execution_count": 365,
     "metadata": {},
     "output_type": "execute_result"
    }
   ],
   "source": [
    "# процент людей с лайками\n",
    "\n",
    "percent_likes = pd.DataFrame(likes_views_df.groupby('qty_likes')['qty_likes'].count()).rename(columns={'qty_likes' : 'qty_users'})\n",
    "total_likes = percent_likes['qty_users'].sum()\n",
    "percent_likes['%_likes'] =  np.round(percent_likes['qty_users'] / total_likes * 100, 2) \n",
    "\n",
    "print(f\"Доля пользователей, поставивших лайк: \", 100 - percent_likes.loc[0, ['%_likes']].values)\n",
    "percent_likes.head(3)"
   ]
  },
  {
   "cell_type": "markdown",
   "id": "a2d10afe",
   "metadata": {},
   "source": [
    "### Задание 11\n",
    "\n",
    "Оцените, различаются ли число лайков между группами. Выберите подходящий статистический критерий и проверьте две метрики: доля пользователей с хотя бы одним лайком, число лайков на пользователя. <b>\n",
    "\n",
    "Какой статистические критерий наиболее хорошо подходит для метрики \"число лайков на пользователя\"?<b>"
   ]
  },
  {
   "cell_type": "code",
   "execution_count": 435,
   "id": "483f6774",
   "metadata": {},
   "outputs": [
    {
     "data": {
      "text/plain": [
       "(32659, 32350)"
      ]
     },
     "execution_count": 435,
     "metadata": {},
     "output_type": "execute_result"
    }
   ],
   "source": [
    "len(test_group_ids), len(control_group_ids)"
   ]
  },
  {
   "cell_type": "code",
   "execution_count": 410,
   "id": "359a9687",
   "metadata": {},
   "outputs": [
    {
     "data": {
      "text/html": [
       "<div>\n",
       "<style scoped>\n",
       "    .dataframe tbody tr th:only-of-type {\n",
       "        vertical-align: middle;\n",
       "    }\n",
       "\n",
       "    .dataframe tbody tr th {\n",
       "        vertical-align: top;\n",
       "    }\n",
       "\n",
       "    .dataframe thead th {\n",
       "        text-align: right;\n",
       "    }\n",
       "</style>\n",
       "<table border=\"1\" class=\"dataframe\">\n",
       "  <thead>\n",
       "    <tr style=\"text-align: right;\">\n",
       "      <th></th>\n",
       "      <th>qty_likes</th>\n",
       "      <th>qty_users</th>\n",
       "    </tr>\n",
       "  </thead>\n",
       "  <tbody>\n",
       "    <tr>\n",
       "      <th>0</th>\n",
       "      <td>0.0</td>\n",
       "      <td>3326</td>\n",
       "    </tr>\n",
       "    <tr>\n",
       "      <th>1</th>\n",
       "      <td>1.0</td>\n",
       "      <td>5820</td>\n",
       "    </tr>\n",
       "    <tr>\n",
       "      <th>2</th>\n",
       "      <td>2.0</td>\n",
       "      <td>5857</td>\n",
       "    </tr>\n",
       "  </tbody>\n",
       "</table>\n",
       "</div>"
      ],
      "text/plain": [
       "   qty_likes  qty_users\n",
       "0        0.0       3326\n",
       "1        1.0       5820\n",
       "2        2.0       5857"
      ]
     },
     "execution_count": 410,
     "metadata": {},
     "output_type": "execute_result"
    }
   ],
   "source": [
    "# датасеты с количеством лайков в тестовой и контрольной группе\n",
    "\n",
    "test_group_ids = views_nodub[views_nodub['exp_group'] == 'test']['user_id'].unique()\n",
    "control_group_ids = views_nodub[views_nodub['exp_group'] == 'control']['user_id'].unique()\n",
    "\n",
    "percent_likes_test = pd.DataFrame(likes_views_df.loc[test_group_ids].groupby('qty_likes')['qty_likes'].count())\\\n",
    "                                                    .rename(columns={'qty_likes' : 'qty_users'}).reset_index()\n",
    "\n",
    "percent_likes_control = pd.DataFrame(likes_views_df.loc[control_group_ids].groupby('qty_likes')['qty_likes'].count())\\\n",
    "                                                    .rename(columns={'qty_likes' : 'qty_users'}).reset_index()\n",
    "\n",
    "percent_likes_test.head(3)"
   ]
  },
  {
   "cell_type": "code",
   "execution_count": 530,
   "id": "33720c91",
   "metadata": {},
   "outputs": [
    {
     "data": {
      "text/plain": [
       "user_id\n",
       "200    1\n",
       "201    1\n",
       "202    1\n",
       "Name: like_or_not, dtype: int64"
      ]
     },
     "execution_count": 530,
     "metadata": {},
     "output_type": "execute_result"
    }
   ],
   "source": [
    "# метрика-1\n",
    "# доля пользователей с хотя бы одним лайком\n",
    "\n",
    "likes_views_df['like_or_not'] = (likes_views_df['qty_likes'] != 0).map({True: 1, 0: 0})\n",
    "\n",
    "test_min_one_like = likes_views_df[likes_views_df['exp_group'] == 'test']['like_or_not']\n",
    "control_min_one_like = likes_views_df[likes_views_df['exp_group'] == 'ontrol']['like_or_not']\n",
    "\n",
    "test_min_one_like.head(3)"
   ]
  },
  {
   "cell_type": "code",
   "execution_count": 531,
   "id": "8d9bd37d",
   "metadata": {},
   "outputs": [
    {
     "data": {
      "image/png": "[encoded data removed]",
      "text/plain": [
       "<Figure size 576x432 with 1 Axes>"
      ]
     },
     "metadata": {
      "needs_background": "light"
     },
     "output_type": "display_data"
    }
   ],
   "source": [
    "# гистограмма распределения лайков\n",
    "\n",
    "fig = plt.figure(figsize=(8, 6))\n",
    "\n",
    "plt.hist(test_min_one_like, bins=20, label='test group')\n",
    "plt.hist(control_min_one_like, color='pink', alpha=0.8, bins=20, label='control group')\n",
    "\n",
    "plt.title('Количество лайков на пользователя')\n",
    "plt.xlabel('Количество лайков на пользователя')\n",
    "plt.ylabel('Количество пользователей')\n",
    "plt.legend()\n",
    "\n",
    "plt.show()"
   ]
  },
  {
   "cell_type": "code",
   "execution_count": 533,
   "id": "3acdd49d",
   "metadata": {},
   "outputs": [
    {
     "data": {
      "text/plain": [
       "MannwhitneyuResult(statistic=531875797.0, pvalue=0.0022275340117559063)"
      ]
     },
     "execution_count": 533,
     "metadata": {},
     "output_type": "execute_result"
    }
   ],
   "source": [
    "# гипотеза Н0: доля лайков в группах значимо не различается\n",
    "# тест: Манна-Уитни-Уилкоксона\n",
    "# значения: p-value=0.00222\n",
    "# вывод: отвеграем Н0 об отсутствии различия в доле лайков между группами, принимаем Н1\n",
    "\n",
    "scipy.stats.mannwhitneyu(test_min_one_like, control_min_one_like, alternative='greater')"
   ]
  },
  {
   "cell_type": "code",
   "execution_count": 503,
   "id": "6bc4a40f",
   "metadata": {},
   "outputs": [
    {
     "data": {
      "text/plain": [
       "user_id\n",
       "217    4.0\n",
       "221    5.0\n",
       "229    3.0\n",
       "Name: qty_likes, dtype: float64"
      ]
     },
     "execution_count": 503,
     "metadata": {},
     "output_type": "execute_result"
    }
   ],
   "source": [
    "# метрика-2\n",
    "# число лайков на пользователя\n",
    "\n",
    "test_group_likes = likes_views_df[likes_views_df['exp_group'] == 'test']['qty_likes']\n",
    "control_group_likes = likes_views_df[likes_views_df['exp_group'] == 'control']['qty_likes']\n",
    "control_group_likes.head(3)"
   ]
  },
  {
   "cell_type": "code",
   "execution_count": 504,
   "id": "a8bd3581",
   "metadata": {},
   "outputs": [
    {
     "data": {
      "image/png": "[encoded data removed]",
      "text/plain": [
       "<Figure size 576x432 with 1 Axes>"
      ]
     },
     "metadata": {
      "needs_background": "light"
     },
     "output_type": "display_data"
    }
   ],
   "source": [
    "# гистограмма распределения лайков\n",
    "\n",
    "fig = plt.figure(figsize=(8, 6))\n",
    "\n",
    "plt.hist(test_group_likes, bins=20, label='test group')\n",
    "plt.hist(control_group_likes, color='pink', alpha=0.8, bins=20, label='control group')\n",
    "\n",
    "plt.title('Количество лайков на пользователя')\n",
    "plt.xlabel('Количество лайков на пользователя')\n",
    "plt.ylabel('Количество пользователей')\n",
    "plt.legend()\n",
    "\n",
    "plt.show()"
   ]
  },
  {
   "cell_type": "code",
   "execution_count": 536,
   "id": "91350267",
   "metadata": {},
   "outputs": [
    {
     "data": {
      "text/plain": [
       "MannwhitneyuResult(statistic=518358073.0, pvalue=0.9999852074960237)"
      ]
     },
     "execution_count": 536,
     "metadata": {},
     "output_type": "execute_result"
    }
   ],
   "source": [
    "# гипотеза H0: распределение числа лайков на пользователя не различается в группах\n",
    "# тест: Манна-Уитни-Уилкоксона\n",
    "# значения: p-value = 1.479-05\n",
    "# вывод: отвераем Н0, что выборки не различаются, принимаем H1\n",
    "\n",
    "mann_test = scipy.stats.mannwhitneyu(test_group_likes, control_group_likes, alternative='greater')\n",
    "mann_test"
   ]
  },
  {
   "cell_type": "code",
   "execution_count": 1017,
   "id": "0bcf167e",
   "metadata": {},
   "outputs": [
    {
     "data": {
      "text/html": [
       "<div>\n",
       "<style scoped>\n",
       "    .dataframe tbody tr th:only-of-type {\n",
       "        vertical-align: middle;\n",
       "    }\n",
       "\n",
       "    .dataframe tbody tr th {\n",
       "        vertical-align: top;\n",
       "    }\n",
       "\n",
       "    .dataframe thead th {\n",
       "        text-align: right;\n",
       "    }\n",
       "</style>\n",
       "<table border=\"1\" class=\"dataframe\">\n",
       "  <thead>\n",
       "    <tr style=\"text-align: right;\">\n",
       "      <th></th>\n",
       "      <th>user_id</th>\n",
       "      <th>exp_group</th>\n",
       "      <th>recommendations</th>\n",
       "      <th>timestamp</th>\n",
       "    </tr>\n",
       "  </thead>\n",
       "  <tbody>\n",
       "    <tr>\n",
       "      <th>0</th>\n",
       "      <td>128381</td>\n",
       "      <td>control</td>\n",
       "      <td>[3644 4529 4704 5294 4808]</td>\n",
       "      <td>1654030803</td>\n",
       "    </tr>\n",
       "    <tr>\n",
       "      <th>1</th>\n",
       "      <td>146885</td>\n",
       "      <td>test</td>\n",
       "      <td>[1399 1076  797 7015 5942]</td>\n",
       "      <td>1654030811</td>\n",
       "    </tr>\n",
       "    <tr>\n",
       "      <th>2</th>\n",
       "      <td>50948</td>\n",
       "      <td>test</td>\n",
       "      <td>[2315 3037 1861 6567 4093]</td>\n",
       "      <td>1654030825</td>\n",
       "    </tr>\n",
       "  </tbody>\n",
       "</table>\n",
       "</div>"
      ],
      "text/plain": [
       "   user_id exp_group             recommendations   timestamp\n",
       "0   128381   control  [3644 4529 4704 5294 4808]  1654030803\n",
       "1   146885      test  [1399 1076  797 7015 5942]  1654030811\n",
       "2    50948      test  [2315 3037 1861 6567 4093]  1654030825"
      ]
     },
     "execution_count": 1017,
     "metadata": {},
     "output_type": "execute_result"
    }
   ],
   "source": [
    "views.head(3)"
   ]
  },
  {
   "cell_type": "code",
   "execution_count": 1216,
   "id": "c3a8aeba",
   "metadata": {},
   "outputs": [
    {
     "data": {
      "text/html": [
       "<div>\n",
       "<style scoped>\n",
       "    .dataframe tbody tr th:only-of-type {\n",
       "        vertical-align: middle;\n",
       "    }\n",
       "\n",
       "    .dataframe tbody tr th {\n",
       "        vertical-align: top;\n",
       "    }\n",
       "\n",
       "    .dataframe thead th {\n",
       "        text-align: right;\n",
       "    }\n",
       "</style>\n",
       "<table border=\"1\" class=\"dataframe\">\n",
       "  <thead>\n",
       "    <tr style=\"text-align: right;\">\n",
       "      <th></th>\n",
       "      <th>user_id</th>\n",
       "      <th>post_id</th>\n",
       "      <th>timestamp</th>\n",
       "    </tr>\n",
       "  </thead>\n",
       "  <tbody>\n",
       "    <tr>\n",
       "      <th>0</th>\n",
       "      <td>128381</td>\n",
       "      <td>4704</td>\n",
       "      <td>1654030804</td>\n",
       "    </tr>\n",
       "    <tr>\n",
       "      <th>1</th>\n",
       "      <td>146885</td>\n",
       "      <td>1399</td>\n",
       "      <td>1654030816</td>\n",
       "    </tr>\n",
       "    <tr>\n",
       "      <th>2</th>\n",
       "      <td>50948</td>\n",
       "      <td>2315</td>\n",
       "      <td>1654030828</td>\n",
       "    </tr>\n",
       "  </tbody>\n",
       "</table>\n",
       "</div>"
      ],
      "text/plain": [
       "   user_id  post_id   timestamp\n",
       "0   128381     4704  1654030804\n",
       "1   146885     1399  1654030816\n",
       "2    50948     2315  1654030828"
      ]
     },
     "execution_count": 1216,
     "metadata": {},
     "output_type": "execute_result"
    }
   ],
   "source": [
    "likes.head(3)"
   ]
  },
  {
   "cell_type": "markdown",
   "id": "4eea9803",
   "metadata": {},
   "source": [
    "### Задание 13\n",
    "\n",
    "Посчитать hitrate для test и control <b>\n",
    "\n",
    "Сделать join по пользователям всех лайков и всех показов рекомендаций (то есть у нас появятся пары всех показов и всех лайков одного и того же пользователя, но не все эти пары реальны). Далее отфильтровать те ситуации, где лайк предшествовал показу рекомендаций (то есть относился на самом деле к другому показу) или был слишком поздно (тоже относится к другому показу)."
   ]
  },
  {
   "cell_type": "code",
   "execution_count": 1223,
   "id": "4cc18f21",
   "metadata": {},
   "outputs": [],
   "source": [
    "likes1 = likes.copy()\n",
    "views1 = views_nodub.copy()"
   ]
  },
  {
   "cell_type": "code",
   "execution_count": 1224,
   "id": "5978a001",
   "metadata": {},
   "outputs": [],
   "source": [
    "# мерджим лайки и рекоммендации\n",
    "\n",
    "df = views1.merge(likes, how='left', on='user_id').rename(columns={'timestamp_x': 'time_view', 'timestamp_y': 'time_like'})\\\n",
    "                                                    .sort_values(by=['user_id', 'time_view'], ascending=False)"
   ]
  },
  {
   "cell_type": "code",
   "execution_count": 1225,
   "id": "772bd5e5",
   "metadata": {},
   "outputs": [
    {
     "data": {
      "text/plain": [
       "(1016889, 6)"
      ]
     },
     "execution_count": 1225,
     "metadata": {},
     "output_type": "execute_result"
    }
   ],
   "source": [
    "df.shape"
   ]
  },
  {
   "cell_type": "code",
   "execution_count": 1226,
   "id": "4f728e12",
   "metadata": {},
   "outputs": [],
   "source": [
    "# делим рекоммендации на несколько столбцов\n",
    "\n",
    "posts = df['recommendations'].str.replace('[', '').str.replace(']', '').str.split(expand=True)\n",
    "df = df.join(posts)\n",
    "\n",
    "df.drop('recommendations', axis=1, inplace=True)"
   ]
  },
  {
   "cell_type": "code",
   "execution_count": 1233,
   "id": "7208699b",
   "metadata": {},
   "outputs": [],
   "source": [
    "# заменяем nan на 0 (не дропаем, т.к. показ был, но не было лайка)\n",
    "\n",
    "df[['post_id', 'time_like']] = df[['post_id', 'time_like']].fillna(0)"
   ]
  },
  {
   "cell_type": "code",
   "execution_count": 1235,
   "id": "162d1929",
   "metadata": {},
   "outputs": [],
   "source": [
    "# приводим к типу int\n",
    "\n",
    "df[['time_like', 'time_view', 'post_id', 0, 1, 2, 3, 4]] = df[['time_like', 'time_view', 'post_id', 0, 1, 2, 3, 4]].astype('int64')"
   ]
  },
  {
   "cell_type": "code",
   "execution_count": 1236,
   "id": "ebcc80bb",
   "metadata": {},
   "outputs": [
    {
     "name": "stdout",
     "output_type": "stream",
     "text": [
      "<class 'pandas.core.frame.DataFrame'>\n",
      "Int64Index: 1016889 entries, 720646 to 824029\n",
      "Data columns (total 10 columns):\n",
      " #   Column     Non-Null Count    Dtype \n",
      "---  ------     --------------    ----- \n",
      " 0   user_id    1016889 non-null  int64 \n",
      " 1   exp_group  1016889 non-null  object\n",
      " 2   time_view  1016889 non-null  int64 \n",
      " 3   post_id    1016889 non-null  int64 \n",
      " 4   time_like  1016889 non-null  int64 \n",
      " 5   0          1016889 non-null  int64 \n",
      " 6   1          1016889 non-null  int64 \n",
      " 7   2          1016889 non-null  int64 \n",
      " 8   3          1016889 non-null  int64 \n",
      " 9   4          1016889 non-null  int64 \n",
      "dtypes: int64(9), object(1)\n",
      "memory usage: 117.6+ MB\n"
     ]
    }
   ],
   "source": [
    "df.info()"
   ]
  },
  {
   "cell_type": "code",
   "execution_count": 1237,
   "id": "093b3dca",
   "metadata": {},
   "outputs": [],
   "source": [
    "# заполняем единицами \n",
    "# - номер рекомендации == номер поста, \n",
    "# - лайк был не позже, чем через 60 мин от рекомендации,\n",
    "\n",
    "df['goal'] = None\n",
    "df.loc[((df['post_id'] == df[0])|\n",
    "      (df['post_id'] == df[1])|\n",
    "      (df['post_id'] == df[2])|\n",
    "      (df['post_id'] == df[3])|\n",
    "      (df['post_id'] == df[4]))&\n",
    "       (df['time_like'] - df['time_view'] <= 3600), 'goal'] = 1\n",
    "\n",
    "# остальные значения заполняем нулями\n",
    "df['goal'] = df['goal'].fillna(0)"
   ]
  },
  {
   "cell_type": "code",
   "execution_count": 1281,
   "id": "4bb593a8",
   "metadata": {},
   "outputs": [],
   "source": [
    "# т.к. timeview не уникально, группируемся по ['user_id', 0, 1, 2, 3, 4]\n",
    "\n",
    "good_recommends = df.groupby(['user_id', 0, 1, 2, 3, 4], as_index=False).max()\n",
    "# good_recommends_test = df[df['exp_group'] == 'test'].groupby(['user_id', 0, 1, 2, 3, 4], as_index=False).max()\n",
    "# good_recommends_control = df[df['exp_group'] == 'control'].groupby(['user_id', 0, 1, 2, 3, 4], as_index=False).max()"
   ]
  },
  {
   "cell_type": "code",
   "execution_count": 1288,
   "id": "c084b81c",
   "metadata": {},
   "outputs": [
    {
     "name": "stdout",
     "output_type": "stream",
     "text": [
      " Hitrate \n",
      " общий: 0.7138791729618975,\n",
      " тестовая группа: 0.7204379863361473, \n",
      " контрольная группа: 0.707284424613469\n"
     ]
    }
   ],
   "source": [
    "# отношение к общему числу рекомендаций (правильный ответ 71%)\n",
    "\n",
    "hitrate = good_recommends['goal'].sum() / len(good_recommends)\n",
    "hitrate_test = good_recommends_test['goal'].sum() / len(good_recommends_test)\n",
    "hitrate_control = good_recommends_control['goal'].sum() / len(good_recommends_control)\n",
    "\n",
    "print(f' Hitrate \\n общий: {hitrate},\\n тестовая группа: {hitrate_test}, \\n контрольная группа: {hitrate_control}')"
   ]
  },
  {
   "cell_type": "markdown",
   "id": "3d6818b3",
   "metadata": {},
   "source": [
    "Более подробная инструкция\n",
    "\n",
    "1. Объединяем два датафрейма - с показами и кликами. Нужно подобрать такой джойн, чтобы остались и показы без кликов.\n",
    "2. Разбиваем значения в списке рекомендаций на отдельные - могут помочь [.str.split()](https://pandas.pydata.org/docs/reference/api/pandas.Series.str.split.html), [str.replace()](https://pandas.pydata.org/docs/reference/api/pandas.Series.str.replace.html) и [.explode()](https://pandas.pydata.org/docs/reference/api/pandas.Series.explode.html#pandas.Series.explode)\n",
    "3. Помечаем все **ненужные** нам посты. Это те, у которых **нет id** (стоит пропуск в `post_id`), которые **лайкнули позже, чем через час**, в которых **просмотр оказался позже лайка**, а также те, которые **не рекомендовали**\n",
    "4. Самое сложное: для каждого юзера/поста/просмотра подбираем количество лайков, связанное именно с этой комбинацией. То есть лайкнул человек этот пост после показа или нет, 1 или 0, True или False. При этом учитывайте условия из прошлого шага - все эти варианты считаются за 0/False. Вот это и будет наш **hitrate**\n",
    "5. Остаётся лишь посчитать относительную частоту лайкания"
   ]
  },
  {
   "cell_type": "code",
   "execution_count": 1012,
   "id": "3ea8baf5",
   "metadata": {},
   "outputs": [],
   "source": [
    "# второй способ = через explode\n",
    "\n",
    "# def convert_tolist(str):\n",
    "#     lst=[]\n",
    "#     try:\n",
    "#         lst = [int(i) for i in str[1: -1].strip().replace('   ', ' ').replace('  ', ' ').split(' ')]\n",
    "\n",
    "#     except:\n",
    "#         print(str)\n",
    "        \n",
    "#     return lst\n",
    "\n",
    "# df['recommendations'] = df['recommendations'].apply(convert_tolist)"
   ]
  },
  {
   "cell_type": "code",
   "execution_count": 1041,
   "id": "0a93c9ac",
   "metadata": {},
   "outputs": [],
   "source": [
    "# второй способ = через explode\n",
    "\n",
    "# эксплодим датафейм по всем постам\n",
    "\n",
    "# df = df.explode('recommendations')"
   ]
  },
  {
   "cell_type": "code",
   "execution_count": 1043,
   "id": "df167802",
   "metadata": {},
   "outputs": [],
   "source": [
    "# второй способ = через explode\n",
    "\n",
    "# ставим нелайкнутым постам 0, а лайкнутым 1:\n",
    "#  нелайкнутые - это:\n",
    "# - номер рекомендации != номер поста, \n",
    "# - лайк был раньше рекоммендации или был позже чем на 60 мин,\n",
    "# - пост не рекоммендовали\n",
    "\n",
    "# df['goal'] = None\n",
    "# df.loc[((df['recommendations'] == df['post_id']) & (df['time_like'] - df['time_view'] > 60)) \n",
    "#                                                 | (df['recommendations'] != df['post_id']), 'goal'] = 0\n",
    "# df['goal'] = df['goal'].fillna(1)"
   ]
  },
  {
   "cell_type": "code",
   "execution_count": 1047,
   "id": "6f41ff68",
   "metadata": {},
   "outputs": [],
   "source": [
    "# второй способ = через explode\n",
    "# считаем hitrate\n",
    "\n",
    "# # количество лайков на каждую рекомендацию\n",
    "# good_recommends_implode = df.groupby('index')['time_like', 'goal'].max()\n",
    "# good_recommends = good_recommends_implode.groupby('time_like', as_index=False).max()\n",
    "\n",
    "\n",
    "# # отношение к общему числу рекомендаций (правильный ответ 71%, тут получается 70%)\n",
    "\n",
    "# hitrate = good_recommends['goal'].sum() / len(views1)\n",
    "# hitrate "
   ]
  },
  {
   "cell_type": "markdown",
   "id": "37e5bf36",
   "metadata": {},
   "source": [
    "### Задание 14\n",
    "\n",
    "Оценим различие между группами и значимость. <b>\n",
    "\n",
    "z-критерий для долей мы здесь не можем применять, так как у нас в каждой выборке один и тот же пользователь может встречаться несколько раз. Давайте применим бакетный подход (то есть перейдём к бакетам и по ним оценим значимость), чтобы посчитать групповой hitrate (или CTR) — доля hitrate по группе/бакету. Используйте 100 бакетов. Уровень значимости останется тем же на уровне 0.05."
   ]
  },
  {
   "cell_type": "code",
   "execution_count": null,
   "id": "1f2254c5",
   "metadata": {},
   "outputs": [],
   "source": []
  },
  {
   "cell_type": "code",
   "execution_count": 1253,
   "id": "09723b6a",
   "metadata": {},
   "outputs": [],
   "source": [
    "#  функция для расчета хэша\n",
    "\n",
    "import hashlib\n",
    "SALT_b = 'my_salt'\n",
    "\n",
    "def bucket_no(id):\n",
    "    no = int(hashlib.md5((str(id) + SALT_b).encode()).hexdigest(), 16) % 100\n",
    "             \n",
    "    return no"
   ]
  },
  {
   "cell_type": "code",
   "execution_count": 1254,
   "id": "f8e813bc",
   "metadata": {},
   "outputs": [],
   "source": [
    "# назначаем номера бакетов\n",
    "\n",
    "df['bucket'] = df['user_id'].apply(bucket_no)"
   ]
  },
  {
   "cell_type": "code",
   "execution_count": 1268,
   "id": "96d67fbd",
   "metadata": {},
   "outputs": [],
   "source": [
    "# делим группы на тест и контрол\n",
    "\n",
    "df_test = df[df['exp_group'] == 'test']\n",
    "df_control = df[df['exp_group'] == 'control']"
   ]
  },
  {
   "cell_type": "code",
   "execution_count": 1290,
   "id": "10db9ef4",
   "metadata": {},
   "outputs": [],
   "source": [
    "# считаем hitrates для групп\n",
    "\n",
    "def count_hitrates(data):\n",
    "    bucket_hitrates = []\n",
    "    \n",
    "    for b in data.bucket.unique():\n",
    "        temp = data[data['bucket'] == b].groupby(['user_id', 0, 1, 2, 3, 4], as_index=False).max()\n",
    "        hitrate = temp['goal'].sum() / len(temp)\n",
    "        bucket_hitrates.append(hitrate)\n",
    "        \n",
    "    return bucket_hitrates\n",
    "\n",
    "\n",
    "control_bucket_hitrates, test_bucket_hitrates = count_hitrates(df_control), count_hitrates(df_test)\n",
    "    \n"
   ]
  },
  {
   "cell_type": "code",
   "execution_count": 1294,
   "id": "8ae5fa6a",
   "metadata": {},
   "outputs": [
    {
     "data": {
      "text/plain": [
       "MannwhitneyuResult(statistic=7254.0, pvalue=1.8334862056974616e-08)"
      ]
     },
     "execution_count": 1294,
     "metadata": {},
     "output_type": "execute_result"
    }
   ],
   "source": [
    "# гипотеза Н0: hitrate в контрльной группе такой же как в тестовой\n",
    "# тест: Манна-Уитни\n",
    "# результат: значечние p-value = 1.8334862056974616e-08\n",
    "# вывод: принимаем H1: hitrate в контрльной группе больше, чем в тестовой\n",
    "\n",
    "\n",
    "test_mann_hitrate = scipy.stats.mannwhitneyu(test_bucket_hitrates, control_bucket_hitrates, alternative='greater')\n",
    "test_mann_hitrate"
   ]
  },
  {
   "cell_type": "code",
   "execution_count": null,
   "id": "b78404ed",
   "metadata": {},
   "outputs": [],
   "source": []
  }
 ],
 "metadata": {
  "celltoolbar": "Необработанный формат ячейки",
  "kernelspec": {
   "display_name": "Python 3.10.1 64-bit",
   "language": "python",
   "name": "python3"
  },
  "language_info": {
   "codemirror_mode": {
    "name": "ipython",
    "version": 3
   },
   "file_extension": ".py",
   "mimetype": "text/x-python",
   "name": "python",
   "nbconvert_exporter": "python",
   "pygments_lexer": "ipython3",
   "version": "3.10.1"
  },
  "vscode": {
   "interpreter": {
    "hash": "a126e420b80acc579eb4b1b0a39026ec00dbf648020581178c5e043f422d2245"
   }
  }
 },
 "nbformat": 4,
 "nbformat_minor": 5
}
